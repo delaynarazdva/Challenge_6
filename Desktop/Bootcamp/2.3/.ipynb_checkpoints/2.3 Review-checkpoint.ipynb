{
 "cells": [
  {
   "cell_type": "code",
   "execution_count": null,
   "id": "c02f2109",
   "metadata": {},
   "outputs": [],
   "source": [
    "# Define a function that accepts a customer first_name, last_name,\n",
    "# and revenue and returns a custom greeting using the full name.\n",
    "# Use these ranges to determine the business tier (and corresponding message)\n",
    "# for each customer.\n",
    "#   Platinum = 3001+\n",
    "#   Gold = 2001-3000\n",
    "#   Silver = 1001-2000\n",
    "#   Bronze = 0-1000"
   ]
  },
  {
   "cell_type": "code",
   "execution_count": null,
   "id": "d82a036e",
   "metadata": {},
   "outputs": [],
   "source": []
  },
  {
   "cell_type": "code",
   "execution_count": 23,
   "id": "c41db206",
   "metadata": {},
   "outputs": [],
   "source": [
    "def tier(revenue):\n",
    "    if revenue > 3000:\n",
    "        return \"Platinum\"\n",
    "    elif revenue > 2000:\n",
    "        return \"Gold\"\n",
    "    elif revenue > 1000:\n",
    "        return \"Silver\"\n",
    "    else:\n",
    "        return "
   ]
  },
  {
   "cell_type": "code",
   "execution_count": 24,
   "id": "ab81e3f1",
   "metadata": {},
   "outputs": [],
   "source": [
    "def greeting(first_name, last_name, revenue):\n",
    "    print(f\"Greetings {tier(revenue)} member {first_name} {last_name}!\")"
   ]
  },
  {
   "cell_type": "code",
   "execution_count": 25,
   "id": "550870a7",
   "metadata": {},
   "outputs": [
    {
     "name": "stdout",
     "output_type": "stream",
     "text": [
      "Greetings Silver member bek davronov!\n"
     ]
    }
   ],
   "source": [
    "greeting(first_name=\"bek\", last_name=\"davronov\", revenue=2000)"
   ]
  },
  {
   "cell_type": "code",
   "execution_count": 26,
   "id": "e3a0801a",
   "metadata": {},
   "outputs": [],
   "source": [
    "### PV=FV/ (1+i) n          "
   ]
  },
  {
   "cell_type": "code",
   "execution_count": 36,
   "id": "f3c6a06d",
   "metadata": {},
   "outputs": [],
   "source": [
    "def pv (fv, i, n):\n",
    "    pv = fv/(1+i)**n\n",
    "    return pv"
   ]
  },
  {
   "cell_type": "code",
   "execution_count": 38,
   "id": "b8787209",
   "metadata": {},
   "outputs": [
    {
     "data": {
      "text/plain": [
       "1057.285659361784"
      ]
     },
     "execution_count": 38,
     "metadata": {},
     "output_type": "execute_result"
    }
   ],
   "source": [
    "pv(1100, 0.02, 2)"
   ]
  },
  {
   "cell_type": "code",
   "execution_count": null,
   "id": "99dd9dcb",
   "metadata": {},
   "outputs": [],
   "source": [
    "import numpy_financials as npf"
   ]
  },
  {
   "cell_type": "code",
   "execution_count": null,
   "id": "1983623a",
   "metadata": {},
   "outputs": [],
   "source": []
  },
  {
   "cell_type": "code",
   "execution_count": null,
   "id": "dd66f5b1",
   "metadata": {},
   "outputs": [],
   "source": []
  },
  {
   "cell_type": "code",
   "execution_count": null,
   "id": "b98bbc53",
   "metadata": {},
   "outputs": [],
   "source": []
  },
  {
   "cell_type": "code",
   "execution_count": null,
   "id": "2e1e7104",
   "metadata": {},
   "outputs": [],
   "source": []
  },
  {
   "cell_type": "code",
   "execution_count": null,
   "id": "ef9748a6",
   "metadata": {},
   "outputs": [],
   "source": []
  }
 ],
 "metadata": {
  "kernelspec": {
   "display_name": "Python 3 (ipykernel)",
   "language": "python",
   "name": "python3"
  },
  "language_info": {
   "codemirror_mode": {
    "name": "ipython",
    "version": 3
   },
   "file_extension": ".py",
   "mimetype": "text/x-python",
   "name": "python",
   "nbconvert_exporter": "python",
   "pygments_lexer": "ipython3",
   "version": "3.9.7"
  }
 },
 "nbformat": 4,
 "nbformat_minor": 5
}
