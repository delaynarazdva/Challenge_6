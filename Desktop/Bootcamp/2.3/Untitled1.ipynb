{
 "cells": [
  {
   "cell_type": "code",
   "execution_count": 3,
   "id": "6d6ad8b6",
   "metadata": {},
   "outputs": [
    {
     "name": "stdout",
     "output_type": "stream",
     "text": [
      "Requirement already satisfied: numpy-financial in c:\\users\\bekhr\\anaconda3\\lib\\site-packages (1.0.0)\n",
      "Requirement already satisfied: numpy>=1.15 in c:\\users\\bekhr\\anaconda3\\lib\\site-packages (from numpy-financial) (1.21.5)\n"
     ]
    },
    {
     "name": "stderr",
     "output_type": "stream",
     "text": [
      "WARNING: Error parsing requirements for whichcraft: [Errno 2] No such file or directory: 'c:\\\\users\\\\bekhr\\\\anaconda3\\\\lib\\\\site-packages\\\\whichcraft-0.6.1.dist-info\\\\METADATA'\n",
      "WARNING: Error parsing requirements for sphinxcontrib-websupport: [Errno 2] No such file or directory: 'c:\\\\users\\\\bekhr\\\\anaconda3\\\\lib\\\\site-packages\\\\sphinxcontrib_websupport-1.2.4.dist-info\\\\METADATA'\n",
      "WARNING: Error parsing requirements for singledispatch: [Errno 2] No such file or directory: 'c:\\\\users\\\\bekhr\\\\anaconda3\\\\lib\\\\site-packages\\\\singledispatch-3.7.0.dist-info\\\\METADATA'\n",
      "WARNING: Error parsing requirements for pathlib2: [Errno 2] No such file or directory: 'c:\\\\users\\\\bekhr\\\\anaconda3\\\\lib\\\\site-packages\\\\pathlib2-2.3.6.dist-info\\\\METADATA'\n",
      "WARNING: Error parsing requirements for path: [Errno 2] No such file or directory: 'c:\\\\users\\\\bekhr\\\\anaconda3\\\\lib\\\\site-packages\\\\path-16.2.0.dist-info\\\\METADATA'\n",
      "WARNING: Error parsing requirements for more-itertools: [Errno 2] No such file or directory: 'c:\\\\users\\\\bekhr\\\\anaconda3\\\\lib\\\\site-packages\\\\more_itertools-8.12.0.dist-info\\\\METADATA'\n",
      "WARNING: Error parsing requirements for html5lib: [Errno 2] No such file or directory: 'c:\\\\users\\\\bekhr\\\\anaconda3\\\\lib\\\\site-packages\\\\html5lib-1.1.dist-info\\\\METADATA'\n",
      "WARNING: Error parsing requirements for gevent: [Errno 2] No such file or directory: 'c:\\\\users\\\\bekhr\\\\anaconda3\\\\lib\\\\site-packages\\\\gevent-21.8.0.dist-info\\\\METADATA'\n",
      "WARNING: Error parsing requirements for fastcache: [Errno 2] No such file or directory: 'c:\\\\users\\\\bekhr\\\\anaconda3\\\\lib\\\\site-packages\\\\fastcache-1.1.0.dist-info\\\\METADATA'\n",
      "WARNING: Error parsing requirements for contextlib2: [Errno 2] No such file or directory: 'c:\\\\users\\\\bekhr\\\\anaconda3\\\\lib\\\\site-packages\\\\contextlib2-0.6.0.post1.dist-info\\\\METADATA'\n",
      "WARNING: Error parsing requirements for cached-property: [Errno 2] No such file or directory: 'c:\\\\users\\\\bekhr\\\\anaconda3\\\\lib\\\\site-packages\\\\cached_property-1.5.2.dist-info\\\\METADATA'\n",
      "WARNING: Error parsing requirements for backports-shutil-get-terminal-size: [Errno 2] No such file or directory: 'c:\\\\users\\\\bekhr\\\\anaconda3\\\\lib\\\\site-packages\\\\backports.shutil_get_terminal_size-1.0.0.dist-info\\\\METADATA'\n",
      "WARNING: Error parsing requirements for async-generator: [Errno 2] No such file or directory: 'c:\\\\users\\\\bekhr\\\\anaconda3\\\\lib\\\\site-packages\\\\async_generator-1.10.dist-info\\\\METADATA'\n",
      "WARNING: Error parsing requirements for asn1crypto: [Errno 2] No such file or directory: 'c:\\\\users\\\\bekhr\\\\anaconda3\\\\lib\\\\site-packages\\\\asn1crypto-1.4.0.dist-info\\\\METADATA'\n"
     ]
    }
   ],
   "source": [
    "!pip install numpy-financial"
   ]
  },
  {
   "cell_type": "code",
   "execution_count": 5,
   "id": "c653d040",
   "metadata": {},
   "outputs": [],
   "source": [
    "import numpy_financial as npf"
   ]
  },
  {
   "cell_type": "code",
   "execution_count": 6,
   "id": "819431c5",
   "metadata": {},
   "outputs": [],
   "source": [
    "discount_rate = .1\n",
    "cash_flows = [-1000, 1254, 268416, 323512]"
   ]
  },
  {
   "cell_type": "code",
   "execution_count": 8,
   "id": "aa21c56c",
   "metadata": {},
   "outputs": [
    {
     "data": {
      "text/plain": [
       "465030.7588279488"
      ]
     },
     "execution_count": 8,
     "metadata": {},
     "output_type": "execute_result"
    }
   ],
   "source": [
    "npf.npv(rate = discount_rate, values = cash_flows)"
   ]
  },
  {
   "cell_type": "code",
   "execution_count": 9,
   "id": "551611d3",
   "metadata": {},
   "outputs": [
    {
     "data": {
      "text/plain": [
       "'C:\\\\Users\\\\bekhr\\\\Desktop\\\\Bootcamp\\\\2.3'"
      ]
     },
     "execution_count": 9,
     "metadata": {},
     "output_type": "execute_result"
    }
   ],
   "source": [
    "pwd"
   ]
  },
  {
   "cell_type": "code",
   "execution_count": 10,
   "id": "432cb8d7",
   "metadata": {},
   "outputs": [
    {
     "name": "stdout",
     "output_type": "stream",
     "text": [
      "[WinError 2] The system cannot find the file specified: 'desktop'\n",
      "C:\\Users\\bekhr\\Desktop\\Bootcamp\\2.3\n"
     ]
    }
   ],
   "source": [
    "cd desktop"
   ]
  },
  {
   "cell_type": "code",
   "execution_count": 11,
   "id": "e1248f90",
   "metadata": {},
   "outputs": [],
   "source": [
    "from pathlib import Path"
   ]
  },
  {
   "cell_type": "code",
   "execution_count": 13,
   "id": "04f887dc",
   "metadata": {},
   "outputs": [
    {
     "data": {
      "text/plain": [
       "WindowsPath('C:/Users/bekhr/Desktop/Bootcamp/2.3')"
      ]
     },
     "execution_count": 13,
     "metadata": {},
     "output_type": "execute_result"
    }
   ],
   "source": [
    "Path.cwd()"
   ]
  },
  {
   "cell_type": "code",
   "execution_count": 17,
   "id": "d2500680",
   "metadata": {},
   "outputs": [],
   "source": [
    "filePath = Path(\"input.txt\")"
   ]
  },
  {
   "cell_type": "code",
   "execution_count": 18,
   "id": "b08d513a",
   "metadata": {},
   "outputs": [
    {
     "data": {
      "text/plain": [
       "WindowsPath('input.txt')"
      ]
     },
     "execution_count": 18,
     "metadata": {},
     "output_type": "execute_result"
    }
   ],
   "source": [
    "filePath"
   ]
  },
  {
   "cell_type": "code",
   "execution_count": 19,
   "id": "ea4db154",
   "metadata": {},
   "outputs": [
    {
     "name": "stdout",
     "output_type": "stream",
     "text": [
      "List of Best Actors:\n",
      "Nicolas Cage\n",
      "Betty White\n",
      "Gary Busey\n"
     ]
    }
   ],
   "source": [
    "with open(filePath, \"r\") as file:\n",
    "    print(file.read())"
   ]
  },
  {
   "cell_type": "code",
   "execution_count": 20,
   "id": "a985438c",
   "metadata": {},
   "outputs": [],
   "source": [
    "outputPath = Path(\"output.txt\")"
   ]
  },
  {
   "cell_type": "code",
   "execution_count": 22,
   "id": "4dccb381",
   "metadata": {},
   "outputs": [],
   "source": [
    "with open(outputPath, \"w\") as file:\n",
    "    file.write(\"sample line \\n line 2 \\n line 3 \\n line 4\")"
   ]
  },
  {
   "cell_type": "code",
   "execution_count": 23,
   "id": "15d42382",
   "metadata": {},
   "outputs": [],
   "source": [
    "with open(filePath, \"r\") as file:\n",
    "    text = file.read()"
   ]
  },
  {
   "cell_type": "code",
   "execution_count": 24,
   "id": "d68e648c",
   "metadata": {},
   "outputs": [
    {
     "data": {
      "text/plain": [
       "'List of Best Actors:\\nNicolas Cage\\nBetty White\\nGary Busey'"
      ]
     },
     "execution_count": 24,
     "metadata": {},
     "output_type": "execute_result"
    }
   ],
   "source": [
    "text"
   ]
  },
  {
   "cell_type": "code",
   "execution_count": 25,
   "id": "c86fe03a",
   "metadata": {},
   "outputs": [],
   "source": [
    "outputPath = Path(\"output2.txt\")"
   ]
  },
  {
   "cell_type": "code",
   "execution_count": 35,
   "id": "33ae7e8f",
   "metadata": {},
   "outputs": [],
   "source": [
    "c_t = Path(\"customer_traffic_output.txt\")"
   ]
  },
  {
   "cell_type": "code",
   "execution_count": 36,
   "id": "09024113",
   "metadata": {},
   "outputs": [
    {
     "data": {
      "text/plain": [
       "WindowsPath('customer_traffic_output.txt')"
      ]
     },
     "execution_count": 36,
     "metadata": {},
     "output_type": "execute_result"
    }
   ],
   "source": [
    "c_t"
   ]
  },
  {
   "cell_type": "code",
   "execution_count": 37,
   "id": "eb630a4c",
   "metadata": {},
   "outputs": [
    {
     "name": "stdout",
     "output_type": "stream",
     "text": [
      "49\n",
      "97\n",
      "78\n",
      "29\n",
      "32\n",
      "54\n",
      "47\n",
      "38\n",
      "43\n",
      "99\n",
      "\n"
     ]
    }
   ],
   "source": [
    "with open(c_t, \"r\") as file:\n",
    "    print(file.read())"
   ]
  },
  {
   "cell_type": "code",
   "execution_count": 38,
   "id": "bf28856c",
   "metadata": {},
   "outputs": [],
   "source": [
    "c_t2 = Path(\"customer_traffic_output.txt\")"
   ]
  },
  {
   "cell_type": "code",
   "execution_count": 47,
   "id": "4ff5c5b8",
   "metadata": {},
   "outputs": [
    {
     "name": "stdout",
     "output_type": "stream",
     "text": [
      "2, 2, 8, 6, 3, 3, 7, 2, 4, 2, 3, 6, 3,\n"
     ]
    }
   ],
   "source": [
    "with open(c_t2, \"r\") as file:\n",
    "    print(file.read())"
   ]
  },
  {
   "cell_type": "code",
   "execution_count": 46,
   "id": "940fd4b4",
   "metadata": {},
   "outputs": [],
   "source": [
    "with open(c_t2, \"w\") as file:\n",
    "    file.write(\"2, 2, 8, 6, 3, 3, 7, 2, 4, 2, 3, 6, 3,\")"
   ]
  },
  {
   "cell_type": "code",
   "execution_count": 50,
   "id": "137cda53",
   "metadata": {},
   "outputs": [
    {
     "ename": "SyntaxError",
     "evalue": "invalid syntax (1613305440.py, line 2)",
     "output_type": "error",
     "traceback": [
      "\u001b[1;36m  Input \u001b[1;32mIn [50]\u001b[1;36m\u001b[0m\n\u001b[1;33m    file.write([0:5])\u001b[0m\n\u001b[1;37m                 ^\u001b[0m\n\u001b[1;31mSyntaxError\u001b[0m\u001b[1;31m:\u001b[0m invalid syntax\n"
     ]
    }
   ],
   "source": [
    "with open(c_t2, \"w\") as file:\n",
    "    file.write([0:5])"
   ]
  },
  {
   "cell_type": "code",
   "execution_count": 51,
   "id": "ca8f2eb9",
   "metadata": {},
   "outputs": [],
   "source": [
    "import csv"
   ]
  },
  {
   "cell_type": "code",
   "execution_count": 52,
   "id": "af31b1ce",
   "metadata": {},
   "outputs": [],
   "source": [
    "csvPath = Path(\"accounting.csv\")"
   ]
  },
  {
   "cell_type": "code",
   "execution_count": 63,
   "id": "d89e1a5d",
   "metadata": {},
   "outputs": [],
   "source": [
    "with open(csvPath, \"r\") as file:\n",
    "    csvFile = csv.reader(file, delimiter = \",\")\n",
    "    \n",
    "    headers = next(csvFile)\n",
    "    SSN = []\n",
    "    for x in csvFile:\n",
    "        \n",
    "        SSN.append(x[2])"
   ]
  },
  {
   "cell_type": "code",
   "execution_count": 64,
   "id": "aee4b065",
   "metadata": {},
   "outputs": [
    {
     "data": {
      "text/plain": [
       "['619-16-7988',\n",
       " '164-51-7615',\n",
       " '051-83-3290',\n",
       " '776-83-2884',\n",
       " '197-94-2398',\n",
       " '252-92-1832',\n",
       " '296-23-6842',\n",
       " '337-40-7543',\n",
       " '399-46-5595',\n",
       " '014-18-2503',\n",
       " '005-82-7918',\n",
       " '561-17-6312']"
      ]
     },
     "execution_count": 64,
     "metadata": {},
     "output_type": "execute_result"
    }
   ],
   "source": [
    "SSN"
   ]
  },
  {
   "cell_type": "code",
   "execution_count": null,
   "id": "ee0e6422",
   "metadata": {},
   "outputs": [],
   "source": []
  },
  {
   "cell_type": "code",
   "execution_count": null,
   "id": "7b4936e2",
   "metadata": {},
   "outputs": [],
   "source": []
  },
  {
   "cell_type": "code",
   "execution_count": null,
   "id": "8810f815",
   "metadata": {},
   "outputs": [],
   "source": []
  },
  {
   "cell_type": "code",
   "execution_count": null,
   "id": "27ff085d",
   "metadata": {},
   "outputs": [],
   "source": []
  },
  {
   "cell_type": "code",
   "execution_count": null,
   "id": "cffc5568",
   "metadata": {},
   "outputs": [],
   "source": []
  },
  {
   "cell_type": "code",
   "execution_count": null,
   "id": "6261ab41",
   "metadata": {},
   "outputs": [],
   "source": []
  },
  {
   "cell_type": "code",
   "execution_count": null,
   "id": "b9d7c3ee",
   "metadata": {},
   "outputs": [],
   "source": []
  },
  {
   "cell_type": "code",
   "execution_count": null,
   "id": "5c82f4b4",
   "metadata": {},
   "outputs": [],
   "source": []
  },
  {
   "cell_type": "code",
   "execution_count": null,
   "id": "3248af56",
   "metadata": {},
   "outputs": [],
   "source": []
  },
  {
   "cell_type": "code",
   "execution_count": null,
   "id": "696ce5ec",
   "metadata": {},
   "outputs": [],
   "source": []
  },
  {
   "cell_type": "code",
   "execution_count": null,
   "id": "fea5dcfe",
   "metadata": {},
   "outputs": [],
   "source": []
  },
  {
   "cell_type": "code",
   "execution_count": null,
   "id": "972ce8fc",
   "metadata": {},
   "outputs": [],
   "source": []
  },
  {
   "cell_type": "code",
   "execution_count": null,
   "id": "c1feb766",
   "metadata": {},
   "outputs": [],
   "source": []
  },
  {
   "cell_type": "code",
   "execution_count": null,
   "id": "2bf80283",
   "metadata": {},
   "outputs": [],
   "source": []
  }
 ],
 "metadata": {
  "kernelspec": {
   "display_name": "Python 3 (ipykernel)",
   "language": "python",
   "name": "python3"
  },
  "language_info": {
   "codemirror_mode": {
    "name": "ipython",
    "version": 3
   },
   "file_extension": ".py",
   "mimetype": "text/x-python",
   "name": "python",
   "nbconvert_exporter": "python",
   "pygments_lexer": "ipython3",
   "version": "3.9.7"
  }
 },
 "nbformat": 4,
 "nbformat_minor": 5
}
