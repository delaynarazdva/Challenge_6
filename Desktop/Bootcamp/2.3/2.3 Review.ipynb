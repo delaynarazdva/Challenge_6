{
 "cells": [
  {
   "cell_type": "code",
   "execution_count": null,
   "id": "c02f2109",
   "metadata": {},
   "outputs": [],
   "source": [
    "# Define a function that accepts a customer first_name, last_name,\n",
    "# and revenue and returns a custom greeting using the full name.\n",
    "# Use these ranges to determine the business tier (and corresponding message)\n",
    "# for each customer.\n",
    "#   Platinum = 3001+\n",
    "#   Gold = 2001-3000\n",
    "#   Silver = 1001-2000\n",
    "#   Bronze = 0-1000"
   ]
  },
  {
   "cell_type": "code",
   "execution_count": null,
   "id": "d82a036e",
   "metadata": {},
   "outputs": [],
   "source": []
  },
  {
   "cell_type": "code",
   "execution_count": 23,
   "id": "c41db206",
   "metadata": {},
   "outputs": [],
   "source": [
    "def tier(revenue):\n",
    "    if revenue > 3000:\n",
    "        return \"Platinum\"\n",
    "    elif revenue > 2000:\n",
    "        return \"Gold\"\n",
    "    elif revenue > 1000:\n",
    "        return \"Silver\"\n",
    "    else:\n",
    "        return "
   ]
  },
  {
   "cell_type": "code",
   "execution_count": 24,
   "id": "ab81e3f1",
   "metadata": {},
   "outputs": [],
   "source": [
    "def greeting(first_name, last_name, revenue):\n",
    "    print(f\"Greetings {tier(revenue)} member {first_name} {last_name}!\")"
   ]
  },
  {
   "cell_type": "code",
   "execution_count": 25,
   "id": "550870a7",
   "metadata": {},
   "outputs": [
    {
     "name": "stdout",
     "output_type": "stream",
     "text": [
      "Greetings Silver member bek davronov!\n"
     ]
    }
   ],
   "source": [
    "greeting(first_name=\"bek\", last_name=\"davronov\", revenue=2000)"
   ]
  },
  {
   "cell_type": "code",
   "execution_count": 26,
   "id": "e3a0801a",
   "metadata": {},
   "outputs": [],
   "source": [
    "### PV=FV/ (1+i) n          "
   ]
  },
  {
   "cell_type": "code",
   "execution_count": 36,
   "id": "f3c6a06d",
   "metadata": {},
   "outputs": [],
   "source": [
    "def pv (fv, i, n):\n",
    "    pv = fv/(1+i)**n\n",
    "    return pv"
   ]
  },
  {
   "cell_type": "code",
   "execution_count": 38,
   "id": "b8787209",
   "metadata": {},
   "outputs": [
    {
     "data": {
      "text/plain": [
       "1057.285659361784"
      ]
     },
     "execution_count": 38,
     "metadata": {},
     "output_type": "execute_result"
    }
   ],
   "source": [
    "pv(1100, 0.02, 2)"
   ]
  },
  {
   "cell_type": "code",
   "execution_count": 3,
   "id": "fddfabf6",
   "metadata": {},
   "outputs": [
    {
     "name": "stdout",
     "output_type": "stream",
     "text": [
      "Requirement already satisfied: numpy-financial in c:\\users\\bekhr\\anaconda3\\lib\\site-packages (1.0.0)\n",
      "Requirement already satisfied: numpy>=1.15 in c:\\users\\bekhr\\anaconda3\\lib\\site-packages (from numpy-financial) (1.21.5)\n"
     ]
    },
    {
     "name": "stderr",
     "output_type": "stream",
     "text": [
      "WARNING: Error parsing requirements for whichcraft: [Errno 2] No such file or directory: 'c:\\\\users\\\\bekhr\\\\anaconda3\\\\lib\\\\site-packages\\\\whichcraft-0.6.1.dist-info\\\\METADATA'\n",
      "WARNING: Error parsing requirements for sphinxcontrib-websupport: [Errno 2] No such file or directory: 'c:\\\\users\\\\bekhr\\\\anaconda3\\\\lib\\\\site-packages\\\\sphinxcontrib_websupport-1.2.4.dist-info\\\\METADATA'\n",
      "WARNING: Error parsing requirements for singledispatch: [Errno 2] No such file or directory: 'c:\\\\users\\\\bekhr\\\\anaconda3\\\\lib\\\\site-packages\\\\singledispatch-3.7.0.dist-info\\\\METADATA'\n",
      "WARNING: Error parsing requirements for pathlib2: [Errno 2] No such file or directory: 'c:\\\\users\\\\bekhr\\\\anaconda3\\\\lib\\\\site-packages\\\\pathlib2-2.3.6.dist-info\\\\METADATA'\n",
      "WARNING: Error parsing requirements for path: [Errno 2] No such file or directory: 'c:\\\\users\\\\bekhr\\\\anaconda3\\\\lib\\\\site-packages\\\\path-16.2.0.dist-info\\\\METADATA'\n",
      "WARNING: Error parsing requirements for more-itertools: [Errno 2] No such file or directory: 'c:\\\\users\\\\bekhr\\\\anaconda3\\\\lib\\\\site-packages\\\\more_itertools-8.12.0.dist-info\\\\METADATA'\n",
      "WARNING: Error parsing requirements for html5lib: [Errno 2] No such file or directory: 'c:\\\\users\\\\bekhr\\\\anaconda3\\\\lib\\\\site-packages\\\\html5lib-1.1.dist-info\\\\METADATA'\n",
      "WARNING: Error parsing requirements for gevent: [Errno 2] No such file or directory: 'c:\\\\users\\\\bekhr\\\\anaconda3\\\\lib\\\\site-packages\\\\gevent-21.8.0.dist-info\\\\METADATA'\n",
      "WARNING: Error parsing requirements for fastcache: [Errno 2] No such file or directory: 'c:\\\\users\\\\bekhr\\\\anaconda3\\\\lib\\\\site-packages\\\\fastcache-1.1.0.dist-info\\\\METADATA'\n",
      "WARNING: Error parsing requirements for contextlib2: [Errno 2] No such file or directory: 'c:\\\\users\\\\bekhr\\\\anaconda3\\\\lib\\\\site-packages\\\\contextlib2-0.6.0.post1.dist-info\\\\METADATA'\n",
      "WARNING: Error parsing requirements for cached-property: [Errno 2] No such file or directory: 'c:\\\\users\\\\bekhr\\\\anaconda3\\\\lib\\\\site-packages\\\\cached_property-1.5.2.dist-info\\\\METADATA'\n",
      "WARNING: Error parsing requirements for backports-shutil-get-terminal-size: [Errno 2] No such file or directory: 'c:\\\\users\\\\bekhr\\\\anaconda3\\\\lib\\\\site-packages\\\\backports.shutil_get_terminal_size-1.0.0.dist-info\\\\METADATA'\n",
      "WARNING: Error parsing requirements for async-generator: [Errno 2] No such file or directory: 'c:\\\\users\\\\bekhr\\\\anaconda3\\\\lib\\\\site-packages\\\\async_generator-1.10.dist-info\\\\METADATA'\n",
      "WARNING: Error parsing requirements for asn1crypto: [Errno 2] No such file or directory: 'c:\\\\users\\\\bekhr\\\\anaconda3\\\\lib\\\\site-packages\\\\asn1crypto-1.4.0.dist-info\\\\METADATA'\n"
     ]
    }
   ],
   "source": [
    "!pip install numpy-financial"
   ]
  },
  {
   "cell_type": "code",
   "execution_count": null,
   "id": "5de79697",
   "metadata": {},
   "outputs": [],
   "source": []
  },
  {
   "cell_type": "code",
   "execution_count": 5,
   "id": "99dd9dcb",
   "metadata": {},
   "outputs": [
    {
     "ename": "AttributeError",
     "evalue": "partially initialized module 'numpy_financials' has no attribute 'npv' (most likely due to a circular import)",
     "output_type": "error",
     "traceback": [
      "\u001b[1;31m---------------------------------------------------------------------------\u001b[0m",
      "\u001b[1;31mAttributeError\u001b[0m                            Traceback (most recent call last)",
      "Input \u001b[1;32mIn [5]\u001b[0m, in \u001b[0;36m<cell line: 1>\u001b[1;34m()\u001b[0m\n\u001b[1;32m----> 1\u001b[0m \u001b[38;5;28;01mimport\u001b[39;00m \u001b[38;5;21;01mnumpy_financials\u001b[39;00m \u001b[38;5;28;01mas\u001b[39;00m \u001b[38;5;21;01mnpf\u001b[39;00m\n",
      "File \u001b[1;32m~\\Desktop\\Bootcamp\\2.3\\numpy_financials.py:6\u001b[0m, in \u001b[0;36m<module>\u001b[1;34m\u001b[0m\n\u001b[0;32m      3\u001b[0m discount_rate \u001b[38;5;241m=\u001b[39m \u001b[38;5;241m.1\u001b[39m\n\u001b[0;32m      4\u001b[0m cash_flows \u001b[38;5;241m=\u001b[39m [\u001b[38;5;241m-\u001b[39m\u001b[38;5;241m1000\u001b[39m, \u001b[38;5;241m1254\u001b[39m, \u001b[38;5;241m268416\u001b[39m, \u001b[38;5;241m323512\u001b[39m]\n\u001b[1;32m----> 6\u001b[0m \u001b[43mnpf\u001b[49m\u001b[38;5;241;43m.\u001b[39;49m\u001b[43mnpv\u001b[49m()\n",
      "\u001b[1;31mAttributeError\u001b[0m: partially initialized module 'numpy_financials' has no attribute 'npv' (most likely due to a circular import)"
     ]
    }
   ],
   "source": [
    "import numpy_financials as npf"
   ]
  },
  {
   "cell_type": "code",
   "execution_count": null,
   "id": "9cfc3773",
   "metadata": {},
   "outputs": [],
   "source": [
    "discount_rate = .1\n",
    "cash_flows = [-1000, 1254, 268416, 323512]\n",
    "\n",
    "npf.npv() "
   ]
  },
  {
   "cell_type": "code",
   "execution_count": null,
   "id": "7af1f931",
   "metadata": {},
   "outputs": [],
   "source": []
  },
  {
   "cell_type": "code",
   "execution_count": null,
   "id": "c0136fe5",
   "metadata": {},
   "outputs": [],
   "source": []
  },
  {
   "cell_type": "code",
   "execution_count": null,
   "id": "9d85bd4d",
   "metadata": {},
   "outputs": [],
   "source": []
  },
  {
   "cell_type": "code",
   "execution_count": null,
   "id": "ab1e699b",
   "metadata": {},
   "outputs": [],
   "source": []
  }
 ],
 "metadata": {
  "kernelspec": {
   "display_name": "Python 3 (ipykernel)",
   "language": "python",
   "name": "python3"
  },
  "language_info": {
   "codemirror_mode": {
    "name": "ipython",
    "version": 3
   },
   "file_extension": ".py",
   "mimetype": "text/x-python",
   "name": "python",
   "nbconvert_exporter": "python",
   "pygments_lexer": "ipython3",
   "version": "3.9.7"
  }
 },
 "nbformat": 4,
 "nbformat_minor": 5
}
