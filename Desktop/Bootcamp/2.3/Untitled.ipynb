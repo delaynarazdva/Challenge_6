{
 "cells": [
  {
   "cell_type": "markdown",
   "id": "09f6cc30",
   "metadata": {},
   "source": [
    "###  io"
   ]
  },
  {
   "cell_type": "code",
   "execution_count": 44,
   "id": "480eccee",
   "metadata": {},
   "outputs": [
    {
     "data": {
      "text/plain": [
       "'C:\\\\Users\\\\bekhr\\\\Desktop\\\\Bootcamp\\\\2.3'"
      ]
     },
     "execution_count": 44,
     "metadata": {},
     "output_type": "execute_result"
    }
   ],
   "source": [
    "pwd"
   ]
  },
  {
   "cell_type": "code",
   "execution_count": 45,
   "id": "28c5337e",
   "metadata": {},
   "outputs": [],
   "source": [
    "from pathlib import Path"
   ]
  },
  {
   "cell_type": "code",
   "execution_count": 46,
   "id": "03d16d1a",
   "metadata": {},
   "outputs": [
    {
     "data": {
      "text/plain": [
       "WindowsPath('C:/Users/bekhr/Desktop/Bootcamp/2.3')"
      ]
     },
     "execution_count": 46,
     "metadata": {},
     "output_type": "execute_result"
    }
   ],
   "source": [
    "Path.cwd()"
   ]
  },
  {
   "cell_type": "code",
   "execution_count": 47,
   "id": "1f4ee92b",
   "metadata": {},
   "outputs": [],
   "source": [
    "filePath = Path(\"input.txt\")"
   ]
  },
  {
   "cell_type": "code",
   "execution_count": 48,
   "id": "2a067682",
   "metadata": {},
   "outputs": [
    {
     "data": {
      "text/plain": [
       "WindowsPath('input.txt')"
      ]
     },
     "execution_count": 48,
     "metadata": {},
     "output_type": "execute_result"
    }
   ],
   "source": [
    "filePath"
   ]
  },
  {
   "cell_type": "code",
   "execution_count": 49,
   "id": "f848c915",
   "metadata": {},
   "outputs": [
    {
     "name": "stdout",
     "output_type": "stream",
     "text": [
      "List of Best Actors:\n",
      "Nicolas Cage\n",
      "Betty White\n",
      "Gary Busey\n"
     ]
    }
   ],
   "source": [
    "with open(filePath, \"r\") as file:\n",
    "    print(file.read())"
   ]
  },
  {
   "cell_type": "code",
   "execution_count": 51,
   "id": "b2e182ec",
   "metadata": {},
   "outputs": [],
   "source": [
    "with open(outputPath, \"w\") as file\n",
    "    file.write(text)"
   ]
  },
  {
   "cell_type": "code",
   "execution_count": null,
   "id": "07d5b0dd",
   "metadata": {},
   "outputs": [],
   "source": [
    "outputPath = Path(\"output.txt\")"
   ]
  },
  {
   "cell_type": "markdown",
   "id": "cb229bb7",
   "metadata": {},
   "source": [
    "### Ex 2 customer_traffic.txt"
   ]
  },
  {
   "cell_type": "code",
   "execution_count": 55,
   "id": "9bc19576",
   "metadata": {},
   "outputs": [],
   "source": [
    "filePath2 = Path(\"customer_traffic.txt\")"
   ]
  },
  {
   "cell_type": "code",
   "execution_count": 56,
   "id": "581f5f93",
   "metadata": {},
   "outputs": [],
   "source": [
    "with open(filePath2, \"r\") as file:\n",
    "    text2 = file.read()"
   ]
  },
  {
   "cell_type": "code",
   "execution_count": 57,
   "id": "8acc2bbc",
   "metadata": {},
   "outputs": [
    {
     "data": {
      "text/plain": [
       "'49\\n97\\n78\\n29\\n32\\n54\\n47\\n38\\n43\\n99\\n16\\n22\\n4\\n85\\n16\\n79\\n52\\n82\\n54\\n16\\n69\\n80\\n64\\n14\\n24\\n81\\n31\\n17\\n46\\n66\\n83\\n3\\n2\\n73\\n78\\n28\\n56\\n80\\n88\\n1\\n72\\n79\\n66\\n15\\n19\\n21\\n2\\n70\\n41\\n86\\n72\\n60\\n43\\n51\\n0\\n42\\n56\\n25\\n89\\n18\\n23\\n99\\n69\\n85\\n77\\n23\\n67\\n37\\n2\\n50\\n48\\n33\\n3\\n77\\n8\\n33\\n77\\n97\\n73\\n35\\n9\\n43\\n0\\n71\\n69\\n52\\n56\\n8\\n99\\n65\\n22\\n89\\n77\\n43\\n85\\n55\\n85\\n26\\n67\\n5'"
      ]
     },
     "execution_count": 57,
     "metadata": {},
     "output_type": "execute_result"
    }
   ],
   "source": [
    "text2"
   ]
  },
  {
   "cell_type": "code",
   "execution_count": 59,
   "id": "626d61bd",
   "metadata": {},
   "outputs": [],
   "source": [
    "outputPath = Path(\"customer_traffic_output.txt\")"
   ]
  },
  {
   "cell_type": "code",
   "execution_count": 61,
   "id": "cb952abf",
   "metadata": {},
   "outputs": [
    {
     "ename": "NameError",
     "evalue": "name 'outputPath2' is not defined",
     "output_type": "error",
     "traceback": [
      "\u001b[1;31m---------------------------------------------------------------------------\u001b[0m",
      "\u001b[1;31mNameError\u001b[0m                                 Traceback (most recent call last)",
      "Input \u001b[1;32mIn [61]\u001b[0m, in \u001b[0;36m<cell line: 1>\u001b[1;34m()\u001b[0m\n\u001b[1;32m----> 1\u001b[0m \u001b[38;5;28;01mwith\u001b[39;00m \u001b[38;5;28mopen\u001b[39m(\u001b[43moutputPath2\u001b[49m, \u001b[38;5;124m\"\u001b[39m\u001b[38;5;124mw\u001b[39m\u001b[38;5;124m\"\u001b[39m) \u001b[38;5;28;01mas\u001b[39;00m file:\n\u001b[0;32m      2\u001b[0m     file\u001b[38;5;241m.\u001b[39mwrite(text2)\n",
      "\u001b[1;31mNameError\u001b[0m: name 'outputPath2' is not defined"
     ]
    }
   ],
   "source": [
    "with open(outputPath2, \"w\") as file:\n",
    "    file.write(text2)"
   ]
  },
  {
   "cell_type": "code",
   "execution_count": 63,
   "id": "d3fc6ebd",
   "metadata": {},
   "outputs": [
    {
     "data": {
      "text/plain": [
       "'49\\n97\\n78\\n29\\n32\\n54\\n47\\n38\\n43\\n99\\n16\\n22\\n4\\n85\\n16\\n79\\n52\\n82\\n54\\n16\\n69\\n80\\n64\\n14\\n24\\n81\\n31\\n17\\n46\\n66\\n83\\n3\\n2\\n73\\n78\\n28\\n56\\n80\\n88\\n1\\n72\\n79\\n66\\n15\\n19\\n21\\n2\\n70\\n41\\n86\\n72\\n60\\n43\\n51\\n0\\n42\\n56\\n25\\n89\\n18\\n23\\n99\\n69\\n85\\n77\\n23\\n67\\n37\\n2\\n50\\n48\\n33\\n3\\n77\\n8\\n33\\n77\\n97\\n73\\n35\\n9\\n43\\n0\\n71\\n69\\n52\\n56\\n8\\n99\\n65\\n22\\n89\\n77\\n43\\n85\\n55\\n85\\n26\\n67\\n5'"
      ]
     },
     "execution_count": 63,
     "metadata": {},
     "output_type": "execute_result"
    }
   ],
   "source": [
    "text2"
   ]
  },
  {
   "cell_type": "code",
   "execution_count": 64,
   "id": "9cf8e3a7",
   "metadata": {},
   "outputs": [],
   "source": [
    "outptPath2 = Path(\"customer_traffic_output.txt\")"
   ]
  },
  {
   "cell_type": "code",
   "execution_count": 65,
   "id": "01e6468b",
   "metadata": {},
   "outputs": [],
   "source": [
    "with open(outptPath2, \"w\") as file:\n",
    "    file.write(text2[0:30])"
   ]
  },
  {
   "cell_type": "markdown",
   "id": "8cf234b3",
   "metadata": {},
   "source": [
    "### csv reading"
   ]
  },
  {
   "cell_type": "code",
   "execution_count": 69,
   "id": "826ea9ae",
   "metadata": {},
   "outputs": [],
   "source": [
    "import csv"
   ]
  },
  {
   "cell_type": "code",
   "execution_count": 70,
   "id": "a1edb5ed",
   "metadata": {},
   "outputs": [],
   "source": [
    "csvPath = Path(\"accounting.csv\")"
   ]
  },
  {
   "cell_type": "code",
   "execution_count": 78,
   "id": "e0516238",
   "metadata": {},
   "outputs": [
    {
     "name": "stdout",
     "output_type": "stream",
     "text": [
      "['Tina', 'Fleming', '619-16-7988', '75000']\n",
      "['Erica', 'Shah', '164-51-7615', '40000']\n",
      "['Paula', 'Ortiz', '051-83-3290', '120000']\n",
      "['James', 'Hendricks', '776-83-2884', '90000']\n",
      "['Lauren', 'King', '197-94-2398', '60000']\n",
      "['David', 'Cowan', '252-92-1832', '35000']\n",
      "['Andrew', 'Burton', '296-23-6842', '150000']\n",
      "['Julian', 'Baker', '337-40-7543', '75000']\n",
      "['Scott', 'Castro', '399-46-5595', '50000']\n",
      "['Billy', 'Rodriguez', '014-18-2503', '65000']\n",
      "['Darrell', 'Leblanc', '005-82-7918', '40000']\n",
      "['David', 'Hammond', '561-17-6312', '90000']\n"
     ]
    }
   ],
   "source": [
    "with open(csvPath, \"r\") as file:\n",
    "    csvfile = csv.reader(file, delimiter = \",\")\n",
    "    \n",
    "    headers = next(csvfile)\n",
    "    \n",
    "    SSN = []\n",
    "    for x in csvfile:\n",
    "        print(x)\n",
    "        SSN.append(x[2])"
   ]
  },
  {
   "cell_type": "code",
   "execution_count": 72,
   "id": "927ccdf7",
   "metadata": {},
   "outputs": [
    {
     "data": {
      "text/plain": [
       "<_csv.reader at 0x253b51ef340>"
      ]
     },
     "execution_count": 72,
     "metadata": {},
     "output_type": "execute_result"
    }
   ],
   "source": [
    "csvfile"
   ]
  },
  {
   "cell_type": "code",
   "execution_count": 79,
   "id": "85458d7e",
   "metadata": {},
   "outputs": [
    {
     "data": {
      "text/plain": [
       "['619-16-7988',\n",
       " '164-51-7615',\n",
       " '051-83-3290',\n",
       " '776-83-2884',\n",
       " '197-94-2398',\n",
       " '252-92-1832',\n",
       " '296-23-6842',\n",
       " '337-40-7543',\n",
       " '399-46-5595',\n",
       " '014-18-2503',\n",
       " '005-82-7918',\n",
       " '561-17-6312']"
      ]
     },
     "execution_count": 79,
     "metadata": {},
     "output_type": "execute_result"
    }
   ],
   "source": [
    "SSN"
   ]
  },
  {
   "cell_type": "code",
   "execution_count": null,
   "id": "039b42e7",
   "metadata": {},
   "outputs": [],
   "source": [
    "inputFile"
   ]
  },
  {
   "cell_type": "code",
   "execution_count": null,
   "id": "435798b9",
   "metadata": {},
   "outputs": [],
   "source": [
    "outputFile = open('out.txt', 'w')"
   ]
  },
  {
   "cell_type": "code",
   "execution_count": null,
   "id": "9d4ad132",
   "metadata": {},
   "outputs": [],
   "source": [
    "outputWriter = csv.writer(outputFile)"
   ]
  },
  {
   "cell_type": "code",
   "execution_count": null,
   "id": "7fb758fe",
   "metadata": {},
   "outputs": [],
   "source": [
    "for row in inputReader:\n",
    "        text = row[2]\n",
    "        # write column 2 to file\n",
    "        outputWriter.writerow(text)\n",
    "outputFile.close()\n",
    "inputFile.close()\n"
   ]
  },
  {
   "cell_type": "code",
   "execution_count": null,
   "id": "a12548f5",
   "metadata": {},
   "outputs": [],
   "source": [
    "with open('SSN.csv', 'w', newline='\\')"
   ]
  },
  {
   "cell_type": "code",
   "execution_count": null,
   "id": "0c71ea9b",
   "metadata": {},
   "outputs": [],
   "source": []
  },
  {
   "cell_type": "code",
   "execution_count": null,
   "id": "44f04a9f",
   "metadata": {},
   "outputs": [],
   "source": []
  },
  {
   "cell_type": "code",
   "execution_count": null,
   "id": "b24be1cc",
   "metadata": {},
   "outputs": [],
   "source": []
  },
  {
   "cell_type": "code",
   "execution_count": null,
   "id": "286568f0",
   "metadata": {},
   "outputs": [],
   "source": []
  },
  {
   "cell_type": "code",
   "execution_count": null,
   "id": "06b93447",
   "metadata": {},
   "outputs": [],
   "source": []
  }
 ],
 "metadata": {
  "kernelspec": {
   "display_name": "Python 3 (ipykernel)",
   "language": "python",
   "name": "python3"
  },
  "language_info": {
   "codemirror_mode": {
    "name": "ipython",
    "version": 3
   },
   "file_extension": ".py",
   "mimetype": "text/x-python",
   "name": "python",
   "nbconvert_exporter": "python",
   "pygments_lexer": "ipython3",
   "version": "3.9.7"
  }
 },
 "nbformat": 4,
 "nbformat_minor": 5
}
